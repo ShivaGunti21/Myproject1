{
 "cells": [
  {
   "cell_type": "markdown",
   "id": "U1NLB_lLCxo7",
   "metadata": {
    "id": "U1NLB_lLCxo7"
   },
   "source": [
    "1. Load the dataset , print the complete information of the dataset and name the column that has missing value ."
   ]
  },
  {
   "cell_type": "code",
   "execution_count": null,
   "id": "tiPU7pgHE0gQ",
   "metadata": {
    "colab": {
     "base_uri": "https://localhost:8080/"
    },
    "id": "tiPU7pgHE0gQ",
    "outputId": "711c9536-250d-413f-95c4-d19840805ead"
   },
   "outputs": [
    {
     "name": "stdout",
     "output_type": "stream",
     "text": [
      "<class 'pandas.core.frame.DataFrame'>\n",
      "RangeIndex: 5000 entries, 0 to 4999\n",
      "Data columns (total 10 columns):\n",
      " #   Column              Non-Null Count  Dtype  \n",
      "---  ------              --------------  -----  \n",
      " 0   longitude           5000 non-null   float64\n",
      " 1   latitude            5000 non-null   float64\n",
      " 2   housing_median_age  5000 non-null   int64  \n",
      " 3   total_rooms         5000 non-null   int64  \n",
      " 4   total_bedrooms      4908 non-null   float64\n",
      " 5   population          5000 non-null   int64  \n",
      " 6   households          5000 non-null   int64  \n",
      " 7   median_income       5000 non-null   float64\n",
      " 8   median_house_value  5000 non-null   int64  \n",
      " 9   ocean_proximity     5000 non-null   object \n",
      "dtypes: float64(4), int64(5), object(1)\n",
      "memory usage: 390.8+ KB\n",
      "None\n",
      "column that has missing values is total_bedrooms\n"
     ]
    }
   ],
   "source": [
    "import pandas as pd\n",
    "housing_data = pd.read_csv(\"/content/housing - housing Modified.csv\")\n",
    "print(housing_data.info())\n",
    "print(\"column that has missing values is total_bedrooms\")"
   ]
  },
  {
   "cell_type": "markdown",
   "id": "a7cbe2c5",
   "metadata": {
    "id": "a7cbe2c5"
   },
   "source": [
    "2. Create a data set by filling the missing data with the mean value of the total_bedrooms column in the original data set and print first 10 rows of the dataset.\n"
   ]
  },
  {
   "cell_type": "markdown",
   "id": "8d508857-5450-4a3c-930d-7c85a2e8852c",
   "metadata": {
    "colab": {
     "base_uri": "https://localhost:8080/"
    },
    "id": "8235f941",
    "outputId": "1b0dc0d1-d1c1-4308-fc6e-690369c65976"
   },
   "source": [
    "## import pandas as pd\n",
    "#housing_data = pd.read_csv(\"housing.csv\")\n",
    "mean = housing_data['total_bedrooms'].mean()\n",
    "housing_data['total_bedrooms'].fillna(mean, inplace=True)\n",
    "print(housing_data.head(10))"
   ]
  },
  {
   "cell_type": "markdown",
   "id": "nmFF6dPzR8OO",
   "metadata": {
    "id": "nmFF6dPzR8OO"
   },
   "source": [
    "3. Write a Python program using NumPy to normalize the total rooms  column data.\n",
    "\n",
    "**Note: Formula to normalize**\n",
    "\n",
    "normalize= (x-x.mean())/x.std()"
   ]
  },
  {
   "cell_type": "code",
   "execution_count": null,
   "id": "0hw3vRjl-VqF",
   "metadata": {
    "colab": {
     "base_uri": "https://localhost:8080/"
    },
    "id": "0hw3vRjl-VqF",
    "outputId": "322c1725-1363-4230-a4b0-c47179889bac"
   },
   "outputs": [
    {
     "name": "stdout",
     "output_type": "stream",
     "text": [
      "0      -0.834985\n",
      "1       2.596634\n",
      "2      -0.511081\n",
      "3      -0.617577\n",
      "4      -0.422793\n",
      "          ...   \n",
      "4995    0.134521\n",
      "4996   -0.099993\n",
      "4997    0.101413\n",
      "4998   -0.107718\n",
      "4999   -0.612611\n",
      "Name: total_rooms, Length: 5000, dtype: float64\n"
     ]
    }
   ],
   "source": [
    "import numpy as np\n",
    "import pandas as pd\n",
    "#housing_data = pd.read_csv(\"housing.csv\")\n",
    "# Assume you have parsed the dataset into a NumPy array named 'total_rooms'\n",
    "normalized_total_rooms = (housing_data.total_rooms - np.mean(housing_data.total_rooms)) / np.std(housing_data.total_rooms)\n",
    "\n",
    "\n",
    "print(normalized_total_rooms)\n"
   ]
  },
  {
   "cell_type": "markdown",
   "id": "rtk2IyNHVl8M",
   "metadata": {
    "id": "rtk2IyNHVl8M"
   },
   "source": [
    "4.Calculate the average 'median_income' for each 'ocean_proximity' category."
   ]
  },
  {
   "cell_type": "code",
   "execution_count": null,
   "id": "LV3QOmm72Owi",
   "metadata": {
    "colab": {
     "base_uri": "https://localhost:8080/"
    },
    "id": "LV3QOmm72Owi",
    "outputId": "34ad8316-41b7-441e-ed8d-d1bdb7614e1a"
   },
   "outputs": [
    {
     "name": "stdout",
     "output_type": "stream",
     "text": [
      "ocean_proximity\n",
      "<1H OCEAN     3.689626\n",
      "INLAND        3.032107\n",
      "NEAR BAY      3.892279\n",
      "NEAR OCEAN    2.473104\n",
      "Name: median_income, dtype: float64\n"
     ]
    }
   ],
   "source": [
    "import numpy as np\n",
    "import pandas as pd\n",
    "#housing_data = pd.read_csv(\"housing.csv\")\n",
    "average_income_by_proximity = housing_data.groupby('ocean_proximity')['median_income'].mean()\n",
    "\n",
    "print(average_income_by_proximity)\n"
   ]
  },
  {
   "cell_type": "markdown",
   "id": "24812854",
   "metadata": {
    "id": "24812854"
   },
   "source": [
    "5. Please create a new column named total_bedroom_size. If the total bedrooms is 10 or less, it should be quoted as small. If the total bedrooms is 11 or more but less than 1000, it should be medium, otherwise it should be considered large.\n"
   ]
  },
  {
   "cell_type": "code",
   "execution_count": null,
   "id": "55c83892",
   "metadata": {
    "colab": {
     "base_uri": "https://localhost:8080/"
    },
    "id": "55c83892",
    "outputId": "cde3c480-5f95-40cb-c30a-5a459fceec00"
   },
   "outputs": [
    {
     "name": "stdout",
     "output_type": "stream",
     "text": [
      "   longitude  latitude  housing_median_age  total_rooms  total_bedrooms  \\\n",
      "0    -122.23     37.88                  41          880           129.0   \n",
      "1    -122.22     37.86                  21         7099          1106.0   \n",
      "2    -122.24     37.85                  52         1467           190.0   \n",
      "3    -122.25     37.85                  52         1274           235.0   \n",
      "4    -122.25     37.85                  52         1627           280.0   \n",
      "\n",
      "   population  households  median_income  median_house_value ocean_proximity  \\\n",
      "0         322         126         8.3252              452600        NEAR BAY   \n",
      "1        2401        1138         8.3014              358500        NEAR BAY   \n",
      "2         496         177         7.2574              352100        NEAR BAY   \n",
      "3         558         219         5.6431              341300        NEAR BAY   \n",
      "4         565         259         3.8462              342200        NEAR BAY   \n",
      "\n",
      "  total_bedroom_size  \n",
      "0             medium  \n",
      "1              large  \n",
      "2             medium  \n",
      "3             medium  \n",
      "4             medium  \n"
     ]
    }
   ],
   "source": [
    "import warnings\n",
    "warnings.filterwarnings(\"ignore\")\n",
    "#code goes here\n",
    "import numpy as np\n",
    "import pandas as pd\n",
    "housing_data = pd.read_csv(\"/content/housing - housing Modified.csv\")\n",
    "housing_data[\"total_bedroom_size\"] = None\n",
    "for j, i in enumerate(housing_data.total_bedrooms):\n",
    "    if i <= 10:\n",
    "        housing_data[\"total_bedroom_size\"][j] = \"small\"\n",
    "    elif i >= 11 and i<= 1000:\n",
    "        housing_data[\"total_bedroom_size\"][j] = \"medium\"\n",
    "    else:\n",
    "        housing_data[\"total_bedroom_size\"][j] = \"large\"\n",
    "print(housing_data.head())"
   ]
  },
  {
   "cell_type": "markdown",
   "id": "mfeyYQ4MX0gd",
   "metadata": {
    "id": "mfeyYQ4MX0gd"
   },
   "source": [
    "6. Compute the correlation coefficient between 'median_income' and 'median_house_value'."
   ]
  },
  {
   "cell_type": "code",
   "execution_count": null,
   "id": "ECcUnQno1yMp",
   "metadata": {
    "colab": {
     "base_uri": "https://localhost:8080/"
    },
    "id": "ECcUnQno1yMp",
    "outputId": "43d364e4-a297-4c51-f059-c3a9c93ffc67"
   },
   "outputs": [
    {
     "name": "stdout",
     "output_type": "stream",
     "text": [
      "Correlation Coefficient: 0.6747425007394726\n"
     ]
    }
   ],
   "source": [
    "import numpy as np\n",
    "import pandas as pd\n",
    "#housing_data = pd.read_csv(\"/content/housing - housing Modified.csv\")\n",
    "correlation_coefficient = housing_data['median_income'].corr(housing_data['median_house_value'])\n",
    "\n",
    "print(f\"Correlation Coefficient: {correlation_coefficient}\")\n"
   ]
  },
  {
   "cell_type": "markdown",
   "id": "R19AzD_xYqDZ",
   "metadata": {
    "id": "R19AzD_xYqDZ"
   },
   "source": [
    "7.Extract rows where 'housing_median_age' is greater than 40 and 'median_income' is less than 4."
   ]
  },
  {
   "cell_type": "code",
   "execution_count": null,
   "id": "B_AawhGE11E8",
   "metadata": {
    "colab": {
     "base_uri": "https://localhost:8080/",
     "height": 424
    },
    "id": "B_AawhGE11E8",
    "outputId": "693ff93d-6bb4-4187-c2b6-0260d732f175"
   },
   "outputs": [
    {
     "data": {
      "text/html": [
       "\n",
       "  <div id=\"df-b6447731-35e0-425e-8bf9-91f62baeb149\" class=\"colab-df-container\">\n",
       "    <div>\n",
       "<style scoped>\n",
       "    .dataframe tbody tr th:only-of-type {\n",
       "        vertical-align: middle;\n",
       "    }\n",
       "\n",
       "    .dataframe tbody tr th {\n",
       "        vertical-align: top;\n",
       "    }\n",
       "\n",
       "    .dataframe thead th {\n",
       "        text-align: right;\n",
       "    }\n",
       "</style>\n",
       "<table border=\"1\" class=\"dataframe\">\n",
       "  <thead>\n",
       "    <tr style=\"text-align: right;\">\n",
       "      <th></th>\n",
       "      <th>longitude</th>\n",
       "      <th>latitude</th>\n",
       "      <th>housing_median_age</th>\n",
       "      <th>total_rooms</th>\n",
       "      <th>total_bedrooms</th>\n",
       "      <th>population</th>\n",
       "      <th>households</th>\n",
       "      <th>median_income</th>\n",
       "      <th>median_house_value</th>\n",
       "      <th>ocean_proximity</th>\n",
       "      <th>total_bedroom_size</th>\n",
       "    </tr>\n",
       "  </thead>\n",
       "  <tbody>\n",
       "    <tr>\n",
       "      <th>4</th>\n",
       "      <td>-122.25</td>\n",
       "      <td>37.85</td>\n",
       "      <td>52</td>\n",
       "      <td>1627</td>\n",
       "      <td>280.0</td>\n",
       "      <td>565</td>\n",
       "      <td>259</td>\n",
       "      <td>3.8462</td>\n",
       "      <td>342200</td>\n",
       "      <td>NEAR BAY</td>\n",
       "      <td>medium</td>\n",
       "    </tr>\n",
       "    <tr>\n",
       "      <th>6</th>\n",
       "      <td>-122.25</td>\n",
       "      <td>37.84</td>\n",
       "      <td>52</td>\n",
       "      <td>2535</td>\n",
       "      <td>489.0</td>\n",
       "      <td>1094</td>\n",
       "      <td>514</td>\n",
       "      <td>3.6591</td>\n",
       "      <td>299200</td>\n",
       "      <td>NEAR BAY</td>\n",
       "      <td>medium</td>\n",
       "    </tr>\n",
       "    <tr>\n",
       "      <th>7</th>\n",
       "      <td>-122.25</td>\n",
       "      <td>37.84</td>\n",
       "      <td>52</td>\n",
       "      <td>3104</td>\n",
       "      <td>687.0</td>\n",
       "      <td>1157</td>\n",
       "      <td>647</td>\n",
       "      <td>3.1200</td>\n",
       "      <td>241400</td>\n",
       "      <td>NEAR BAY</td>\n",
       "      <td>medium</td>\n",
       "    </tr>\n",
       "    <tr>\n",
       "      <th>8</th>\n",
       "      <td>-122.26</td>\n",
       "      <td>37.84</td>\n",
       "      <td>42</td>\n",
       "      <td>2555</td>\n",
       "      <td>665.0</td>\n",
       "      <td>1206</td>\n",
       "      <td>595</td>\n",
       "      <td>2.0804</td>\n",
       "      <td>226700</td>\n",
       "      <td>NEAR BAY</td>\n",
       "      <td>medium</td>\n",
       "    </tr>\n",
       "    <tr>\n",
       "      <th>9</th>\n",
       "      <td>-122.25</td>\n",
       "      <td>37.84</td>\n",
       "      <td>52</td>\n",
       "      <td>3549</td>\n",
       "      <td>707.0</td>\n",
       "      <td>1551</td>\n",
       "      <td>714</td>\n",
       "      <td>3.6912</td>\n",
       "      <td>261100</td>\n",
       "      <td>NEAR BAY</td>\n",
       "      <td>medium</td>\n",
       "    </tr>\n",
       "    <tr>\n",
       "      <th>...</th>\n",
       "      <td>...</td>\n",
       "      <td>...</td>\n",
       "      <td>...</td>\n",
       "      <td>...</td>\n",
       "      <td>...</td>\n",
       "      <td>...</td>\n",
       "      <td>...</td>\n",
       "      <td>...</td>\n",
       "      <td>...</td>\n",
       "      <td>...</td>\n",
       "      <td>...</td>\n",
       "    </tr>\n",
       "    <tr>\n",
       "      <th>4995</th>\n",
       "      <td>-118.30</td>\n",
       "      <td>33.99</td>\n",
       "      <td>47</td>\n",
       "      <td>2637</td>\n",
       "      <td>588.0</td>\n",
       "      <td>1903</td>\n",
       "      <td>521</td>\n",
       "      <td>1.8317</td>\n",
       "      <td>96500</td>\n",
       "      <td>&lt;1H OCEAN</td>\n",
       "      <td>medium</td>\n",
       "    </tr>\n",
       "    <tr>\n",
       "      <th>4996</th>\n",
       "      <td>-118.30</td>\n",
       "      <td>33.99</td>\n",
       "      <td>47</td>\n",
       "      <td>2212</td>\n",
       "      <td>533.0</td>\n",
       "      <td>1903</td>\n",
       "      <td>554</td>\n",
       "      <td>1.9853</td>\n",
       "      <td>101100</td>\n",
       "      <td>&lt;1H OCEAN</td>\n",
       "      <td>medium</td>\n",
       "    </tr>\n",
       "    <tr>\n",
       "      <th>4997</th>\n",
       "      <td>-118.28</td>\n",
       "      <td>33.99</td>\n",
       "      <td>46</td>\n",
       "      <td>2577</td>\n",
       "      <td>703.0</td>\n",
       "      <td>2446</td>\n",
       "      <td>687</td>\n",
       "      <td>1.2750</td>\n",
       "      <td>98300</td>\n",
       "      <td>&lt;1H OCEAN</td>\n",
       "      <td>medium</td>\n",
       "    </tr>\n",
       "    <tr>\n",
       "      <th>4998</th>\n",
       "      <td>-118.29</td>\n",
       "      <td>33.99</td>\n",
       "      <td>46</td>\n",
       "      <td>2198</td>\n",
       "      <td>530.0</td>\n",
       "      <td>2067</td>\n",
       "      <td>497</td>\n",
       "      <td>2.0542</td>\n",
       "      <td>103400</td>\n",
       "      <td>&lt;1H OCEAN</td>\n",
       "      <td>medium</td>\n",
       "    </tr>\n",
       "    <tr>\n",
       "      <th>4999</th>\n",
       "      <td>-118.28</td>\n",
       "      <td>33.99</td>\n",
       "      <td>52</td>\n",
       "      <td>1283</td>\n",
       "      <td>342.0</td>\n",
       "      <td>1363</td>\n",
       "      <td>329</td>\n",
       "      <td>2.5848</td>\n",
       "      <td>101900</td>\n",
       "      <td>&lt;1H OCEAN</td>\n",
       "      <td>medium</td>\n",
       "    </tr>\n",
       "  </tbody>\n",
       "</table>\n",
       "<p>1032 rows × 11 columns</p>\n",
       "</div>\n",
       "    <div class=\"colab-df-buttons\">\n",
       "\n",
       "  <div class=\"colab-df-container\">\n",
       "    <button class=\"colab-df-convert\" onclick=\"convertToInteractive('df-b6447731-35e0-425e-8bf9-91f62baeb149')\"\n",
       "            title=\"Convert this dataframe to an interactive table.\"\n",
       "            style=\"display:none;\">\n",
       "\n",
       "  <svg xmlns=\"http://www.w3.org/2000/svg\" height=\"24px\" viewBox=\"0 -960 960 960\">\n",
       "    <path d=\"M120-120v-720h720v720H120Zm60-500h600v-160H180v160Zm220 220h160v-160H400v160Zm0 220h160v-160H400v160ZM180-400h160v-160H180v160Zm440 0h160v-160H620v160ZM180-180h160v-160H180v160Zm440 0h160v-160H620v160Z\"/>\n",
       "  </svg>\n",
       "    </button>\n",
       "\n",
       "  <style>\n",
       "    .colab-df-container {\n",
       "      display:flex;\n",
       "      gap: 12px;\n",
       "    }\n",
       "\n",
       "    .colab-df-convert {\n",
       "      background-color: #E8F0FE;\n",
       "      border: none;\n",
       "      border-radius: 50%;\n",
       "      cursor: pointer;\n",
       "      display: none;\n",
       "      fill: #1967D2;\n",
       "      height: 32px;\n",
       "      padding: 0 0 0 0;\n",
       "      width: 32px;\n",
       "    }\n",
       "\n",
       "    .colab-df-convert:hover {\n",
       "      background-color: #E2EBFA;\n",
       "      box-shadow: 0px 1px 2px rgba(60, 64, 67, 0.3), 0px 1px 3px 1px rgba(60, 64, 67, 0.15);\n",
       "      fill: #174EA6;\n",
       "    }\n",
       "\n",
       "    .colab-df-buttons div {\n",
       "      margin-bottom: 4px;\n",
       "    }\n",
       "\n",
       "    [theme=dark] .colab-df-convert {\n",
       "      background-color: #3B4455;\n",
       "      fill: #D2E3FC;\n",
       "    }\n",
       "\n",
       "    [theme=dark] .colab-df-convert:hover {\n",
       "      background-color: #434B5C;\n",
       "      box-shadow: 0px 1px 3px 1px rgba(0, 0, 0, 0.15);\n",
       "      filter: drop-shadow(0px 1px 2px rgba(0, 0, 0, 0.3));\n",
       "      fill: #FFFFFF;\n",
       "    }\n",
       "  </style>\n",
       "\n",
       "    <script>\n",
       "      const buttonEl =\n",
       "        document.querySelector('#df-b6447731-35e0-425e-8bf9-91f62baeb149 button.colab-df-convert');\n",
       "      buttonEl.style.display =\n",
       "        google.colab.kernel.accessAllowed ? 'block' : 'none';\n",
       "\n",
       "      async function convertToInteractive(key) {\n",
       "        const element = document.querySelector('#df-b6447731-35e0-425e-8bf9-91f62baeb149');\n",
       "        const dataTable =\n",
       "          await google.colab.kernel.invokeFunction('convertToInteractive',\n",
       "                                                    [key], {});\n",
       "        if (!dataTable) return;\n",
       "\n",
       "        const docLinkHtml = 'Like what you see? Visit the ' +\n",
       "          '<a target=\"_blank\" href=https://colab.research.google.com/notebooks/data_table.ipynb>data table notebook</a>'\n",
       "          + ' to learn more about interactive tables.';\n",
       "        element.innerHTML = '';\n",
       "        dataTable['output_type'] = 'display_data';\n",
       "        await google.colab.output.renderOutput(dataTable, element);\n",
       "        const docLink = document.createElement('div');\n",
       "        docLink.innerHTML = docLinkHtml;\n",
       "        element.appendChild(docLink);\n",
       "      }\n",
       "    </script>\n",
       "  </div>\n",
       "\n",
       "\n",
       "<div id=\"df-a1406037-c5be-4207-a2ff-51995c65fe35\">\n",
       "  <button class=\"colab-df-quickchart\" onclick=\"quickchart('df-a1406037-c5be-4207-a2ff-51995c65fe35')\"\n",
       "            title=\"Suggest charts\"\n",
       "            style=\"display:none;\">\n",
       "\n",
       "<svg xmlns=\"http://www.w3.org/2000/svg\" height=\"24px\"viewBox=\"0 0 24 24\"\n",
       "     width=\"24px\">\n",
       "    <g>\n",
       "        <path d=\"M19 3H5c-1.1 0-2 .9-2 2v14c0 1.1.9 2 2 2h14c1.1 0 2-.9 2-2V5c0-1.1-.9-2-2-2zM9 17H7v-7h2v7zm4 0h-2V7h2v10zm4 0h-2v-4h2v4z\"/>\n",
       "    </g>\n",
       "</svg>\n",
       "  </button>\n",
       "\n",
       "<style>\n",
       "  .colab-df-quickchart {\n",
       "      --bg-color: #E8F0FE;\n",
       "      --fill-color: #1967D2;\n",
       "      --hover-bg-color: #E2EBFA;\n",
       "      --hover-fill-color: #174EA6;\n",
       "      --disabled-fill-color: #AAA;\n",
       "      --disabled-bg-color: #DDD;\n",
       "  }\n",
       "\n",
       "  [theme=dark] .colab-df-quickchart {\n",
       "      --bg-color: #3B4455;\n",
       "      --fill-color: #D2E3FC;\n",
       "      --hover-bg-color: #434B5C;\n",
       "      --hover-fill-color: #FFFFFF;\n",
       "      --disabled-bg-color: #3B4455;\n",
       "      --disabled-fill-color: #666;\n",
       "  }\n",
       "\n",
       "  .colab-df-quickchart {\n",
       "    background-color: var(--bg-color);\n",
       "    border: none;\n",
       "    border-radius: 50%;\n",
       "    cursor: pointer;\n",
       "    display: none;\n",
       "    fill: var(--fill-color);\n",
       "    height: 32px;\n",
       "    padding: 0;\n",
       "    width: 32px;\n",
       "  }\n",
       "\n",
       "  .colab-df-quickchart:hover {\n",
       "    background-color: var(--hover-bg-color);\n",
       "    box-shadow: 0 1px 2px rgba(60, 64, 67, 0.3), 0 1px 3px 1px rgba(60, 64, 67, 0.15);\n",
       "    fill: var(--button-hover-fill-color);\n",
       "  }\n",
       "\n",
       "  .colab-df-quickchart-complete:disabled,\n",
       "  .colab-df-quickchart-complete:disabled:hover {\n",
       "    background-color: var(--disabled-bg-color);\n",
       "    fill: var(--disabled-fill-color);\n",
       "    box-shadow: none;\n",
       "  }\n",
       "\n",
       "  .colab-df-spinner {\n",
       "    border: 2px solid var(--fill-color);\n",
       "    border-color: transparent;\n",
       "    border-bottom-color: var(--fill-color);\n",
       "    animation:\n",
       "      spin 1s steps(1) infinite;\n",
       "  }\n",
       "\n",
       "  @keyframes spin {\n",
       "    0% {\n",
       "      border-color: transparent;\n",
       "      border-bottom-color: var(--fill-color);\n",
       "      border-left-color: var(--fill-color);\n",
       "    }\n",
       "    20% {\n",
       "      border-color: transparent;\n",
       "      border-left-color: var(--fill-color);\n",
       "      border-top-color: var(--fill-color);\n",
       "    }\n",
       "    30% {\n",
       "      border-color: transparent;\n",
       "      border-left-color: var(--fill-color);\n",
       "      border-top-color: var(--fill-color);\n",
       "      border-right-color: var(--fill-color);\n",
       "    }\n",
       "    40% {\n",
       "      border-color: transparent;\n",
       "      border-right-color: var(--fill-color);\n",
       "      border-top-color: var(--fill-color);\n",
       "    }\n",
       "    60% {\n",
       "      border-color: transparent;\n",
       "      border-right-color: var(--fill-color);\n",
       "    }\n",
       "    80% {\n",
       "      border-color: transparent;\n",
       "      border-right-color: var(--fill-color);\n",
       "      border-bottom-color: var(--fill-color);\n",
       "    }\n",
       "    90% {\n",
       "      border-color: transparent;\n",
       "      border-bottom-color: var(--fill-color);\n",
       "    }\n",
       "  }\n",
       "</style>\n",
       "\n",
       "  <script>\n",
       "    async function quickchart(key) {\n",
       "      const quickchartButtonEl =\n",
       "        document.querySelector('#' + key + ' button');\n",
       "      quickchartButtonEl.disabled = true;  // To prevent multiple clicks.\n",
       "      quickchartButtonEl.classList.add('colab-df-spinner');\n",
       "      try {\n",
       "        const charts = await google.colab.kernel.invokeFunction(\n",
       "            'suggestCharts', [key], {});\n",
       "      } catch (error) {\n",
       "        console.error('Error during call to suggestCharts:', error);\n",
       "      }\n",
       "      quickchartButtonEl.classList.remove('colab-df-spinner');\n",
       "      quickchartButtonEl.classList.add('colab-df-quickchart-complete');\n",
       "    }\n",
       "    (() => {\n",
       "      let quickchartButtonEl =\n",
       "        document.querySelector('#df-a1406037-c5be-4207-a2ff-51995c65fe35 button');\n",
       "      quickchartButtonEl.style.display =\n",
       "        google.colab.kernel.accessAllowed ? 'block' : 'none';\n",
       "    })();\n",
       "  </script>\n",
       "</div>\n",
       "    </div>\n",
       "  </div>\n"
      ],
      "text/plain": [
       "      longitude  latitude  housing_median_age  total_rooms  total_bedrooms  \\\n",
       "4       -122.25     37.85                  52         1627           280.0   \n",
       "6       -122.25     37.84                  52         2535           489.0   \n",
       "7       -122.25     37.84                  52         3104           687.0   \n",
       "8       -122.26     37.84                  42         2555           665.0   \n",
       "9       -122.25     37.84                  52         3549           707.0   \n",
       "...         ...       ...                 ...          ...             ...   \n",
       "4995    -118.30     33.99                  47         2637           588.0   \n",
       "4996    -118.30     33.99                  47         2212           533.0   \n",
       "4997    -118.28     33.99                  46         2577           703.0   \n",
       "4998    -118.29     33.99                  46         2198           530.0   \n",
       "4999    -118.28     33.99                  52         1283           342.0   \n",
       "\n",
       "      population  households  median_income  median_house_value  \\\n",
       "4            565         259         3.8462              342200   \n",
       "6           1094         514         3.6591              299200   \n",
       "7           1157         647         3.1200              241400   \n",
       "8           1206         595         2.0804              226700   \n",
       "9           1551         714         3.6912              261100   \n",
       "...          ...         ...            ...                 ...   \n",
       "4995        1903         521         1.8317               96500   \n",
       "4996        1903         554         1.9853              101100   \n",
       "4997        2446         687         1.2750               98300   \n",
       "4998        2067         497         2.0542              103400   \n",
       "4999        1363         329         2.5848              101900   \n",
       "\n",
       "     ocean_proximity total_bedroom_size  \n",
       "4           NEAR BAY             medium  \n",
       "6           NEAR BAY             medium  \n",
       "7           NEAR BAY             medium  \n",
       "8           NEAR BAY             medium  \n",
       "9           NEAR BAY             medium  \n",
       "...              ...                ...  \n",
       "4995       <1H OCEAN             medium  \n",
       "4996       <1H OCEAN             medium  \n",
       "4997       <1H OCEAN             medium  \n",
       "4998       <1H OCEAN             medium  \n",
       "4999       <1H OCEAN             medium  \n",
       "\n",
       "[1032 rows x 11 columns]"
      ]
     },
     "execution_count": 8,
     "metadata": {},
     "output_type": "execute_result"
    }
   ],
   "source": [
    "import numpy as np\n",
    "import pandas as pd\n",
    "#housing_data = pd.read_csv(\"housing.csv\")\n",
    "filtered_data = housing_data[(housing_data['housing_median_age'] > 40) & (housing_data['median_income'] < 4)]\n",
    "filtered_data\n"
   ]
  },
  {
   "cell_type": "markdown",
   "id": "2HiMpD8AYtnx",
   "metadata": {
    "id": "2HiMpD8AYtnx"
   },
   "source": [
    "8.Identify and remove outliers in the 'median_house_value' column using the IQR method."
   ]
  },
  {
   "cell_type": "code",
   "execution_count": null,
   "id": "XH-6AJ3r25k0",
   "metadata": {
    "colab": {
     "base_uri": "https://localhost:8080/"
    },
    "id": "XH-6AJ3r25k0",
    "outputId": "40c38568-c705-466a-c36d-22aa7e73d294"
   },
   "outputs": [
    {
     "data": {
      "text/plain": [
       "133925.0"
      ]
     },
     "execution_count": 9,
     "metadata": {},
     "output_type": "execute_result"
    }
   ],
   "source": [
    "\n",
    "Q1 = housing_data['median_house_value'].quantile(0.25)\n",
    "Q3 = housing_data['median_house_value'].quantile(0.75)\n",
    "IQR = Q3 - Q1\n",
    "IQR\n",
    "# filtered_data = housing_data[~((housing_data['median_house_value'] < (Q1 - 1.5 * IQR)) | (housing_data['median_house_value'] > (Q3 + 1.5 * IQR)))]\n",
    "# filtered_data"
   ]
  },
  {
   "cell_type": "markdown",
   "id": "qct3hIhRZBtv",
   "metadata": {
    "id": "qct3hIhRZBtv"
   },
   "source": [
    "9.Implement a class named DataVisualizer with a method to plot a histogram of 'median_house_value'.\n",
    "Create an object for the class and call the method to show histogram in the output.\n"
   ]
  },
  {
   "cell_type": "code",
   "execution_count": null,
   "id": "EkAyQA7J5g9A",
   "metadata": {
    "colab": {
     "base_uri": "https://localhost:8080/",
     "height": 472
    },
    "id": "EkAyQA7J5g9A",
    "outputId": "4f1c8f5b-cc76-4707-c0d3-15ca06c86e3c"
   },
   "outputs": [
    {
     "data": {
      "image/png": "[encoded data removed]",
      "text/plain": [
       "<Figure size 640x480 with 1 Axes>"
      ]
     },
     "metadata": {},
     "output_type": "display_data"
    }
   ],
   "source": [
    "import matplotlib.pyplot as plt\n",
    "\n",
    "class DataVisualizer:\n",
    "    def __init__(self, housing_data):\n",
    "        self.housing_data = housing_data\n",
    "\n",
    "    def plot_histogram(self):\n",
    "        plt.hist(self.housing_data['median_house_value'], bins=20, color='blue', edgecolor='black')\n",
    "        plt.xlabel('Median House Value')\n",
    "        plt.ylabel('Frequency')\n",
    "        plt.title('Histogram of Median House Value')\n",
    "        plt.show()\n",
    "aaa=DataVisualizer(housing_data)\n",
    "aaa.plot_histogram()"
   ]
  },
  {
   "cell_type": "markdown",
   "id": "WWWP-vaKZFaM",
   "metadata": {
    "id": "WWWP-vaKZFaM"
   },
   "source": [
    "10. Create a scatter plot of 'median_income' against 'median_house_value'."
   ]
  },
  {
   "cell_type": "code",
   "execution_count": null,
   "id": "0j1sOY3b179z",
   "metadata": {
    "colab": {
     "base_uri": "https://localhost:8080/",
     "height": 449
    },
    "id": "0j1sOY3b179z",
    "outputId": "c8ab9856-6bd7-4bc5-896a-8fee6ad59276"
   },
   "outputs": [
    {
     "data": {
      "image/png": "[encoded data removed]",
      "text/plain": [
       "<Figure size 640x480 with 1 Axes>"
      ]
     },
     "metadata": {},
     "output_type": "display_data"
    }
   ],
   "source": [
    "\n",
    "import matplotlib.pyplot as plt\n",
    "\n",
    "plt.scatter(housing_data['median_income'], housing_data['median_house_value'])\n",
    "plt.xlabel('Median Income')\n",
    "plt.ylabel('Median House Value')\n",
    "plt.show()\n"
   ]
  }
 ],
 "metadata": {
  "colab": {
   "provenance": []
  },
  "kernelspec": {
   "display_name": "Python 3 (ipykernel)",
   "language": "python",
   "name": "python3"
  },
  "language_info": {
   "codemirror_mode": {
    "name": "ipython",
    "version": 3
   },
   "file_extension": ".py",
   "mimetype": "text/x-python",
   "name": "python",
   "nbconvert_exporter": "python",
   "pygments_lexer": "ipython3",
   "version": "3.11.7"
  }
 },
 "nbformat": 4,
 "nbformat_minor": 5
}
